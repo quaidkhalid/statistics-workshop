{
 "cells": [
  {
   "cell_type": "code",
   "execution_count": 44,
   "id": "11493c56",
   "metadata": {},
   "outputs": [],
   "source": [
    "import pandas as pd\n",
    "import numpy as np\n",
    "import matplotlib.pyplot as plt"
   ]
  },
  {
   "cell_type": "markdown",
   "id": "21554aa9",
   "metadata": {},
   "source": [
    "data source: https://www.nu3.de/blogs/nutrition/food-carbon-footprint-index-2018"
   ]
  },
  {
   "cell_type": "code",
   "execution_count": 58,
   "id": "a9c6957f",
   "metadata": {},
   "outputs": [],
   "source": [
    "food_consumption = pd.read_csv('food_consumption.csv',index_col = 0)"
   ]
  },
  {
   "cell_type": "code",
   "execution_count": 23,
   "id": "243c1b8f",
   "metadata": {},
   "outputs": [],
   "source": [
    "# pd.read_csv?"
   ]
  },
  {
   "cell_type": "code",
   "execution_count": 59,
   "id": "6ac2fda3",
   "metadata": {
    "scrolled": false
   },
   "outputs": [
    {
     "data": {
      "text/html": [
       "<div>\n",
       "<style scoped>\n",
       "    .dataframe tbody tr th:only-of-type {\n",
       "        vertical-align: middle;\n",
       "    }\n",
       "\n",
       "    .dataframe tbody tr th {\n",
       "        vertical-align: top;\n",
       "    }\n",
       "\n",
       "    .dataframe thead th {\n",
       "        text-align: right;\n",
       "    }\n",
       "</style>\n",
       "<table border=\"1\" class=\"dataframe\">\n",
       "  <thead>\n",
       "    <tr style=\"text-align: right;\">\n",
       "      <th></th>\n",
       "      <th>country</th>\n",
       "      <th>food_category</th>\n",
       "      <th>consumption</th>\n",
       "      <th>co2_emission</th>\n",
       "    </tr>\n",
       "  </thead>\n",
       "  <tbody>\n",
       "    <tr>\n",
       "      <th>1</th>\n",
       "      <td>Argentina</td>\n",
       "      <td>pork</td>\n",
       "      <td>10.51</td>\n",
       "      <td>37.20</td>\n",
       "    </tr>\n",
       "    <tr>\n",
       "      <th>2</th>\n",
       "      <td>Argentina</td>\n",
       "      <td>poultry</td>\n",
       "      <td>38.66</td>\n",
       "      <td>41.53</td>\n",
       "    </tr>\n",
       "    <tr>\n",
       "      <th>3</th>\n",
       "      <td>Argentina</td>\n",
       "      <td>beef</td>\n",
       "      <td>55.48</td>\n",
       "      <td>1712.00</td>\n",
       "    </tr>\n",
       "    <tr>\n",
       "      <th>4</th>\n",
       "      <td>Argentina</td>\n",
       "      <td>lamb_goat</td>\n",
       "      <td>1.56</td>\n",
       "      <td>54.63</td>\n",
       "    </tr>\n",
       "    <tr>\n",
       "      <th>5</th>\n",
       "      <td>Argentina</td>\n",
       "      <td>fish</td>\n",
       "      <td>4.36</td>\n",
       "      <td>6.96</td>\n",
       "    </tr>\n",
       "    <tr>\n",
       "      <th>...</th>\n",
       "      <td>...</td>\n",
       "      <td>...</td>\n",
       "      <td>...</td>\n",
       "      <td>...</td>\n",
       "    </tr>\n",
       "    <tr>\n",
       "      <th>1426</th>\n",
       "      <td>Bangladesh</td>\n",
       "      <td>dairy</td>\n",
       "      <td>21.91</td>\n",
       "      <td>31.21</td>\n",
       "    </tr>\n",
       "    <tr>\n",
       "      <th>1427</th>\n",
       "      <td>Bangladesh</td>\n",
       "      <td>wheat</td>\n",
       "      <td>17.47</td>\n",
       "      <td>3.33</td>\n",
       "    </tr>\n",
       "    <tr>\n",
       "      <th>1428</th>\n",
       "      <td>Bangladesh</td>\n",
       "      <td>rice</td>\n",
       "      <td>171.73</td>\n",
       "      <td>219.76</td>\n",
       "    </tr>\n",
       "    <tr>\n",
       "      <th>1429</th>\n",
       "      <td>Bangladesh</td>\n",
       "      <td>soybeans</td>\n",
       "      <td>0.61</td>\n",
       "      <td>0.27</td>\n",
       "    </tr>\n",
       "    <tr>\n",
       "      <th>1430</th>\n",
       "      <td>Bangladesh</td>\n",
       "      <td>nuts</td>\n",
       "      <td>0.72</td>\n",
       "      <td>1.27</td>\n",
       "    </tr>\n",
       "  </tbody>\n",
       "</table>\n",
       "<p>1430 rows × 4 columns</p>\n",
       "</div>"
      ],
      "text/plain": [
       "         country food_category  consumption  co2_emission\n",
       "1      Argentina          pork        10.51         37.20\n",
       "2      Argentina       poultry        38.66         41.53\n",
       "3      Argentina          beef        55.48       1712.00\n",
       "4      Argentina     lamb_goat         1.56         54.63\n",
       "5      Argentina          fish         4.36          6.96\n",
       "...          ...           ...          ...           ...\n",
       "1426  Bangladesh         dairy        21.91         31.21\n",
       "1427  Bangladesh         wheat        17.47          3.33\n",
       "1428  Bangladesh          rice       171.73        219.76\n",
       "1429  Bangladesh      soybeans         0.61          0.27\n",
       "1430  Bangladesh          nuts         0.72          1.27\n",
       "\n",
       "[1430 rows x 4 columns]"
      ]
     },
     "execution_count": 59,
     "metadata": {},
     "output_type": "execute_result"
    }
   ],
   "source": [
    "food_consumption"
   ]
  },
  {
   "cell_type": "code",
   "execution_count": 46,
   "id": "c48910d8",
   "metadata": {},
   "outputs": [
    {
     "name": "stdout",
     "output_type": "stream",
     "text": [
      "   country food_category  consumption  co2_emission\n",
      "56     USA          pork        27.64         97.83\n",
      "57     USA       poultry        50.01         53.72\n",
      "58     USA          beef        36.24       1118.29\n",
      "59     USA     lamb_goat         0.43         15.06\n",
      "60     USA          fish        12.35         19.72\n",
      "61     USA          eggs        14.58         13.39\n",
      "62     USA         dairy       254.69        362.78\n",
      "63     USA         wheat        80.43         15.34\n",
      "64     USA          rice         6.88          8.80\n",
      "65     USA      soybeans         0.04          0.02\n",
      "66     USA          nuts         7.86         13.91\n"
     ]
    }
   ],
   "source": [
    "# Subset country for USA: usa_consumption\n",
    "usa_consumption = food_consumption[food_consumption['country']=='USA']\n",
    "print(usa_consumption)"
   ]
  },
  {
   "cell_type": "markdown",
   "id": "3fff1bf7",
   "metadata": {},
   "source": [
    "## Mean, Median and Mode"
   ]
  },
  {
   "cell_type": "code",
   "execution_count": 6,
   "id": "2e02a051",
   "metadata": {},
   "outputs": [
    {
     "name": "stdout",
     "output_type": "stream",
     "text": [
      "44.650000000000006\n"
     ]
    }
   ],
   "source": [
    "# Calculate mean consumption in USA\n",
    "print(np.mean(usa_consumption['consumption']))"
   ]
  },
  {
   "cell_type": "code",
   "execution_count": 7,
   "id": "add284b0",
   "metadata": {},
   "outputs": [
    {
     "name": "stdout",
     "output_type": "stream",
     "text": [
      "14.58\n"
     ]
    }
   ],
   "source": [
    "# Calculate median consumption in USA\n",
    "print(np.median(usa_consumption['consumption']))"
   ]
  },
  {
   "cell_type": "code",
   "execution_count": 52,
   "id": "8de2c492",
   "metadata": {},
   "outputs": [
    {
     "data": {
      "image/png": "[encoded data removed]",
      "text/plain": [
       "<Figure size 640x480 with 1 Axes>"
      ]
     },
     "metadata": {},
     "output_type": "display_data"
    }
   ],
   "source": [
    "# Subset for food_category equals rice\n",
    "rice_consumption = food_consumption[food_consumption['food_category']=='rice']\n",
    "\n",
    "# Histogram of co2_emission for rice and show plot\n",
    "rice_consumption['co2_emission'].hist()\n",
    "# rice_consumption.plot(kind='hist')\n",
    "plt.title('Distribution of CO2 Emissions from Rice Consumption')\n",
    "plt.xlabel('CO2 Emissions (kg)')\n",
    "plt.ylabel('consumption')\n",
    "plt.show()\n"
   ]
  },
  {
   "cell_type": "markdown",
   "id": "08a78110",
   "metadata": {},
   "source": [
    "Is it left skewed or right skewed?"
   ]
  },
  {
   "cell_type": "code",
   "execution_count": 60,
   "id": "ea930e36",
   "metadata": {},
   "outputs": [
    {
     "data": {
      "text/html": [
       "<div>\n",
       "<style scoped>\n",
       "    .dataframe tbody tr th:only-of-type {\n",
       "        vertical-align: middle;\n",
       "    }\n",
       "\n",
       "    .dataframe tbody tr th {\n",
       "        vertical-align: top;\n",
       "    }\n",
       "\n",
       "    .dataframe thead th {\n",
       "        text-align: right;\n",
       "    }\n",
       "</style>\n",
       "<table border=\"1\" class=\"dataframe\">\n",
       "  <thead>\n",
       "    <tr style=\"text-align: right;\">\n",
       "      <th></th>\n",
       "      <th>country</th>\n",
       "      <th>food_category</th>\n",
       "      <th>consumption</th>\n",
       "      <th>co2_emission</th>\n",
       "    </tr>\n",
       "  </thead>\n",
       "  <tbody>\n",
       "    <tr>\n",
       "      <th>9</th>\n",
       "      <td>Argentina</td>\n",
       "      <td>rice</td>\n",
       "      <td>8.77</td>\n",
       "      <td>11.22</td>\n",
       "    </tr>\n",
       "    <tr>\n",
       "      <th>20</th>\n",
       "      <td>Australia</td>\n",
       "      <td>rice</td>\n",
       "      <td>11.03</td>\n",
       "      <td>14.12</td>\n",
       "    </tr>\n",
       "    <tr>\n",
       "      <th>31</th>\n",
       "      <td>Albania</td>\n",
       "      <td>rice</td>\n",
       "      <td>7.78</td>\n",
       "      <td>9.96</td>\n",
       "    </tr>\n",
       "    <tr>\n",
       "      <th>42</th>\n",
       "      <td>Iceland</td>\n",
       "      <td>rice</td>\n",
       "      <td>3.89</td>\n",
       "      <td>4.98</td>\n",
       "    </tr>\n",
       "    <tr>\n",
       "      <th>53</th>\n",
       "      <td>New Zealand</td>\n",
       "      <td>rice</td>\n",
       "      <td>9.16</td>\n",
       "      <td>11.72</td>\n",
       "    </tr>\n",
       "    <tr>\n",
       "      <th>...</th>\n",
       "      <td>...</td>\n",
       "      <td>...</td>\n",
       "      <td>...</td>\n",
       "      <td>...</td>\n",
       "    </tr>\n",
       "    <tr>\n",
       "      <th>1384</th>\n",
       "      <td>Sierra Leone</td>\n",
       "      <td>rice</td>\n",
       "      <td>103.30</td>\n",
       "      <td>132.19</td>\n",
       "    </tr>\n",
       "    <tr>\n",
       "      <th>1395</th>\n",
       "      <td>Sri Lanka</td>\n",
       "      <td>rice</td>\n",
       "      <td>109.72</td>\n",
       "      <td>140.41</td>\n",
       "    </tr>\n",
       "    <tr>\n",
       "      <th>1406</th>\n",
       "      <td>Indonesia</td>\n",
       "      <td>rice</td>\n",
       "      <td>134.62</td>\n",
       "      <td>172.27</td>\n",
       "    </tr>\n",
       "    <tr>\n",
       "      <th>1417</th>\n",
       "      <td>Liberia</td>\n",
       "      <td>rice</td>\n",
       "      <td>94.75</td>\n",
       "      <td>121.25</td>\n",
       "    </tr>\n",
       "    <tr>\n",
       "      <th>1428</th>\n",
       "      <td>Bangladesh</td>\n",
       "      <td>rice</td>\n",
       "      <td>171.73</td>\n",
       "      <td>219.76</td>\n",
       "    </tr>\n",
       "  </tbody>\n",
       "</table>\n",
       "<p>130 rows × 4 columns</p>\n",
       "</div>"
      ],
      "text/plain": [
       "           country food_category  consumption  co2_emission\n",
       "9        Argentina          rice         8.77         11.22\n",
       "20       Australia          rice        11.03         14.12\n",
       "31         Albania          rice         7.78          9.96\n",
       "42         Iceland          rice         3.89          4.98\n",
       "53     New Zealand          rice         9.16         11.72\n",
       "...            ...           ...          ...           ...\n",
       "1384  Sierra Leone          rice       103.30        132.19\n",
       "1395     Sri Lanka          rice       109.72        140.41\n",
       "1406     Indonesia          rice       134.62        172.27\n",
       "1417       Liberia          rice        94.75        121.25\n",
       "1428    Bangladesh          rice       171.73        219.76\n",
       "\n",
       "[130 rows x 4 columns]"
      ]
     },
     "execution_count": 60,
     "metadata": {},
     "output_type": "execute_result"
    }
   ],
   "source": [
    "rice_consumption = food_consumption[food_consumption['food_category']=='rice']\n",
    "rice_consumption"
   ]
  },
  {
   "cell_type": "code",
   "execution_count": 61,
   "id": "6f074b4a",
   "metadata": {},
   "outputs": [
    {
     "name": "stdout",
     "output_type": "stream",
     "text": [
      "37.59161538461538\n"
     ]
    }
   ],
   "source": [
    "# Calculate mean and median of co2_emission with .agg()\n",
    "print(rice_consumption['co2_emission'].agg('mean'))"
   ]
  },
  {
   "cell_type": "markdown",
   "id": "e233d40f",
   "metadata": {},
   "source": [
    "## Variance and standard deviation"
   ]
  },
  {
   "cell_type": "code",
   "execution_count": 68,
   "id": "a12c167d",
   "metadata": {
    "scrolled": true
   },
   "outputs": [
    {
     "name": "stdout",
     "output_type": "stream",
     "text": [
      "                mean        std          var\n",
      "country                                     \n",
      "Albania    48.430000  93.247250  8695.049680\n",
      "Algeria    33.137273  65.245767  4257.010102\n",
      "Angola     10.544545  11.586943   134.257247\n",
      "Argentina  39.037273  60.692914  3683.629762\n",
      "Armenia    37.010000  68.207337  4652.240780\n",
      "...              ...        ...          ...\n",
      "Uruguay    39.418182  64.408174  4148.412816\n",
      "Venezuela  25.217273  34.944537  1221.120662\n",
      "Vietnam    24.430909  41.150238  1693.342049\n",
      "Zambia      5.191818   3.440139    11.834556\n",
      "Zimbabwe    8.778182  11.641294   135.519736\n",
      "\n",
      "[130 rows x 3 columns]\n"
     ]
    },
    {
     "ename": "AttributeError",
     "evalue": "'NoneType' object has no attribute 'sort_values'",
     "output_type": "error",
     "traceback": [
      "\u001b[1;31m---------------------------------------------------------------------------\u001b[0m",
      "\u001b[1;31mAttributeError\u001b[0m                            Traceback (most recent call last)",
      "Cell \u001b[1;32mIn[68], line 2\u001b[0m\n\u001b[0;32m      1\u001b[0m \u001b[38;5;66;03m# Print variance and sd of co2_emission for each food_category\u001b[39;00m\n\u001b[1;32m----> 2\u001b[0m \u001b[38;5;28mprint\u001b[39m(food_consumption\u001b[38;5;241m.\u001b[39mgroupby(\u001b[38;5;124m'\u001b[39m\u001b[38;5;124mcountry\u001b[39m\u001b[38;5;124m'\u001b[39m)[\u001b[38;5;124m'\u001b[39m\u001b[38;5;124mconsumption\u001b[39m\u001b[38;5;124m'\u001b[39m]\u001b[38;5;241m.\u001b[39magg([\u001b[38;5;124m'\u001b[39m\u001b[38;5;124mmean\u001b[39m\u001b[38;5;124m'\u001b[39m,\u001b[38;5;124m'\u001b[39m\u001b[38;5;124mstd\u001b[39m\u001b[38;5;124m'\u001b[39m,\u001b[38;5;124m'\u001b[39m\u001b[38;5;124mvar\u001b[39m\u001b[38;5;124m'\u001b[39m]))\u001b[38;5;241m.\u001b[39msort_values(ascending\u001b[38;5;241m=\u001b[39m\u001b[38;5;28;01mFalse\u001b[39;00m)\n",
      "\u001b[1;31mAttributeError\u001b[0m: 'NoneType' object has no attribute 'sort_values'"
     ]
    }
   ],
   "source": [
    "# Print variance and sd of co2_emission for each food_category\n",
    "print(food_consumption.groupby('country')['consumption'].agg(['mean','std','var'])).sort_values(ascending=False)\n",
    "\n",
    "# Create histogram of co2_emission for food_category 'beef'\n",
    "# food_consumption[food_consumption['food_category']=='beef']['co2_emission'].hist()\n",
    "# plt.show()\n",
    "\n",
    "# Create histogram of co2_emission for food_category 'eggs'\n",
    "# food_consumption[food_consumption['food_category']=='eggs']['co2_emission'].hist()\n",
    "# plt.show()"
   ]
  },
  {
   "cell_type": "code",
   "execution_count": 62,
   "id": "7387c3f7",
   "metadata": {},
   "outputs": [
    {
     "data": {
      "text/html": [
       "<div>\n",
       "<style scoped>\n",
       "    .dataframe tbody tr th:only-of-type {\n",
       "        vertical-align: middle;\n",
       "    }\n",
       "\n",
       "    .dataframe tbody tr th {\n",
       "        vertical-align: top;\n",
       "    }\n",
       "\n",
       "    .dataframe thead th {\n",
       "        text-align: right;\n",
       "    }\n",
       "</style>\n",
       "<table border=\"1\" class=\"dataframe\">\n",
       "  <thead>\n",
       "    <tr style=\"text-align: right;\">\n",
       "      <th></th>\n",
       "      <th>country</th>\n",
       "      <th>food_category</th>\n",
       "      <th>consumption</th>\n",
       "      <th>co2_emission</th>\n",
       "    </tr>\n",
       "  </thead>\n",
       "  <tbody>\n",
       "    <tr>\n",
       "      <th>1</th>\n",
       "      <td>Argentina</td>\n",
       "      <td>pork</td>\n",
       "      <td>10.51</td>\n",
       "      <td>37.20</td>\n",
       "    </tr>\n",
       "    <tr>\n",
       "      <th>2</th>\n",
       "      <td>Argentina</td>\n",
       "      <td>poultry</td>\n",
       "      <td>38.66</td>\n",
       "      <td>41.53</td>\n",
       "    </tr>\n",
       "    <tr>\n",
       "      <th>3</th>\n",
       "      <td>Argentina</td>\n",
       "      <td>beef</td>\n",
       "      <td>55.48</td>\n",
       "      <td>1712.00</td>\n",
       "    </tr>\n",
       "    <tr>\n",
       "      <th>4</th>\n",
       "      <td>Argentina</td>\n",
       "      <td>lamb_goat</td>\n",
       "      <td>1.56</td>\n",
       "      <td>54.63</td>\n",
       "    </tr>\n",
       "    <tr>\n",
       "      <th>5</th>\n",
       "      <td>Argentina</td>\n",
       "      <td>fish</td>\n",
       "      <td>4.36</td>\n",
       "      <td>6.96</td>\n",
       "    </tr>\n",
       "    <tr>\n",
       "      <th>...</th>\n",
       "      <td>...</td>\n",
       "      <td>...</td>\n",
       "      <td>...</td>\n",
       "      <td>...</td>\n",
       "    </tr>\n",
       "    <tr>\n",
       "      <th>1426</th>\n",
       "      <td>Bangladesh</td>\n",
       "      <td>dairy</td>\n",
       "      <td>21.91</td>\n",
       "      <td>31.21</td>\n",
       "    </tr>\n",
       "    <tr>\n",
       "      <th>1427</th>\n",
       "      <td>Bangladesh</td>\n",
       "      <td>wheat</td>\n",
       "      <td>17.47</td>\n",
       "      <td>3.33</td>\n",
       "    </tr>\n",
       "    <tr>\n",
       "      <th>1428</th>\n",
       "      <td>Bangladesh</td>\n",
       "      <td>rice</td>\n",
       "      <td>171.73</td>\n",
       "      <td>219.76</td>\n",
       "    </tr>\n",
       "    <tr>\n",
       "      <th>1429</th>\n",
       "      <td>Bangladesh</td>\n",
       "      <td>soybeans</td>\n",
       "      <td>0.61</td>\n",
       "      <td>0.27</td>\n",
       "    </tr>\n",
       "    <tr>\n",
       "      <th>1430</th>\n",
       "      <td>Bangladesh</td>\n",
       "      <td>nuts</td>\n",
       "      <td>0.72</td>\n",
       "      <td>1.27</td>\n",
       "    </tr>\n",
       "  </tbody>\n",
       "</table>\n",
       "<p>1430 rows × 4 columns</p>\n",
       "</div>"
      ],
      "text/plain": [
       "         country food_category  consumption  co2_emission\n",
       "1      Argentina          pork        10.51         37.20\n",
       "2      Argentina       poultry        38.66         41.53\n",
       "3      Argentina          beef        55.48       1712.00\n",
       "4      Argentina     lamb_goat         1.56         54.63\n",
       "5      Argentina          fish         4.36          6.96\n",
       "...          ...           ...          ...           ...\n",
       "1426  Bangladesh         dairy        21.91         31.21\n",
       "1427  Bangladesh         wheat        17.47          3.33\n",
       "1428  Bangladesh          rice       171.73        219.76\n",
       "1429  Bangladesh      soybeans         0.61          0.27\n",
       "1430  Bangladesh          nuts         0.72          1.27\n",
       "\n",
       "[1430 rows x 4 columns]"
      ]
     },
     "execution_count": 62,
     "metadata": {},
     "output_type": "execute_result"
    }
   ],
   "source": [
    "food_consumption"
   ]
  },
  {
   "cell_type": "markdown",
   "id": "16fd2490",
   "metadata": {},
   "source": [
    "# Quantiles / Percentiles"
   ]
  },
  {
   "cell_type": "code",
   "execution_count": null,
   "id": "22ec1c19",
   "metadata": {},
   "outputs": [],
   "source": []
  },
  {
   "cell_type": "code",
   "execution_count": 72,
   "id": "34915216",
   "metadata": {},
   "outputs": [
    {
     "name": "stdout",
     "output_type": "stream",
     "text": [
      "[   0.        5.21     16.53     62.5975 1712.    ]\n"
     ]
    }
   ],
   "source": [
    "# Calculate the quartiles of co2_emission\n",
    "print(np.quantile(food_consumption['co2_emission'],[0,.25,0.5,0.75,1]))"
   ]
  },
  {
   "cell_type": "markdown",
   "id": "c71f31b8",
   "metadata": {},
   "source": [
    "## Finding outliers using IQR"
   ]
  },
  {
   "attachments": {
    "outliers.png": {
     "image/png": "[encoded data removed]"
    }
   },
   "cell_type": "markdown",
   "id": "c3bb2074",
   "metadata": {},
   "source": [
    "![outliers.png](attachment:outliers.png)"
   ]
  },
  {
   "cell_type": "code",
   "execution_count": 55,
   "id": "2d07a4e6",
   "metadata": {},
   "outputs": [
    {
     "data": {
      "text/plain": [
       "country\n",
       "Albania      1777.85\n",
       "Algeria       707.88\n",
       "Angola        412.99\n",
       "Argentina    2172.40\n",
       "Armenia      1109.93\n",
       "              ...   \n",
       "Uruguay      1634.91\n",
       "Venezuela    1104.10\n",
       "Vietnam       641.51\n",
       "Zambia        225.30\n",
       "Zimbabwe      350.33\n",
       "Name: co2_emission, Length: 130, dtype: float64"
      ]
     },
     "execution_count": 55,
     "metadata": {},
     "output_type": "execute_result"
    }
   ],
   "source": [
    "# Calculate total co2_emission per country: emissions_by_country\n",
    "emissions_by_country = food_consumption.groupby('country')['co2_emission'].agg('sum')\n",
    "emissions_by_country"
   ]
  },
  {
   "cell_type": "code",
   "execution_count": 32,
   "id": "33c62d6c",
   "metadata": {},
   "outputs": [
    {
     "name": "stdout",
     "output_type": "stream",
     "text": [
      "country\n",
      "Argentina    2172.4\n",
      "Name: co2_emission, dtype: float64\n"
     ]
    }
   ],
   "source": [
    "# Compute the first and third quartiles and IQR of emissions_by_country\n",
    "q1 = np.quantile(emissions_by_country,0.25)\n",
    "q3 = np.quantile(emissions_by_country, 0.75)\n",
    "iqr = q3 - q1\n",
    "\n",
    "# Calculate the lower and upper cutoffs for outliers\n",
    "lower = q1 - 1.5 * iqr\n",
    "upper = q3 + 1.5 *iqr\n",
    "\n",
    "# Subset emissions_by_country to find outliers\n",
    "outliers = emissions_by_country[(emissions_by_country<lower) | (emissions_by_country>upper)]\n",
    "print(outliers)"
   ]
  },
  {
   "cell_type": "code",
   "execution_count": null,
   "id": "400d448f",
   "metadata": {},
   "outputs": [],
   "source": []
  },
  {
   "cell_type": "code",
   "execution_count": null,
   "id": "40373575",
   "metadata": {},
   "outputs": [],
   "source": []
  }
 ],
 "metadata": {
  "kernelspec": {
   "display_name": "Python 3 (ipykernel)",
   "language": "python",
   "name": "python3"
  },
  "language_info": {
   "codemirror_mode": {
    "name": "ipython",
    "version": 3
   },
   "file_extension": ".py",
   "mimetype": "text/x-python",
   "name": "python",
   "nbconvert_exporter": "python",
   "pygments_lexer": "ipython3",
   "version": "3.11.5"
  }
 },
 "nbformat": 4,
 "nbformat_minor": 5
}
